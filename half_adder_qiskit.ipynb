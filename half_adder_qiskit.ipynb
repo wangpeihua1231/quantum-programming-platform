{
 "cells": [
  {
   "cell_type": "code",
   "execution_count": 1,
   "metadata": {},
   "outputs": [],
   "source": [
    "from qiskit import QuantumCircuit\n",
    "test_qc = QuantumCircuit(4, 2)"
   ]
  },
  {
   "cell_type": "code",
   "execution_count": 2,
   "metadata": {},
   "outputs": [
    {
     "data": {
      "text/html": [
       "<pre style=\"word-wrap: normal;white-space: pre;background: #fff0;line-height: 1.1;font-family: &quot;Courier New&quot;,Courier,monospace\">     ┌───┐\n",
       "q_0: ┤ X ├\n",
       "     ├───┤\n",
       "q_1: ┤ X ├\n",
       "     └───┘\n",
       "q_2: ─────\n",
       "          \n",
       "q_3: ─────\n",
       "          \n",
       "c: 2/═════\n",
       "          </pre>"
      ],
      "text/plain": [
       "     ┌───┐\n",
       "q_0: ┤ X ├\n",
       "     ├───┤\n",
       "q_1: ┤ X ├\n",
       "     └───┘\n",
       "q_2: ─────\n",
       "          \n",
       "q_3: ─────\n",
       "          \n",
       "c: 2/═════\n",
       "          "
      ]
     },
     "execution_count": 2,
     "metadata": {},
     "output_type": "execute_result"
    }
   ],
   "source": [
    "# First, our circuit should encode an input (here '11')\n",
    "test_qc.x([0, 1])\n",
    "test_qc.draw()"
   ]
  },
  {
   "cell_type": "code",
   "execution_count": 5,
   "metadata": {},
   "outputs": [
    {
     "data": {
      "text/html": [
       "<pre style=\"word-wrap: normal;white-space: pre;background: #fff0;line-height: 1.1;font-family: &quot;Courier New&quot;,Courier,monospace\">     ┌───┐          \n",
       "q_0: ┤ X ├──■───────\n",
       "     ├───┤  │       \n",
       "q_1: ┤ X ├──┼────■──\n",
       "     └───┘┌─┴─┐┌─┴─┐\n",
       "q_2: ─────┤ X ├┤ X ├\n",
       "          └───┘└───┘\n",
       "q_3: ───────────────\n",
       "                    \n",
       "c: 2/═══════════════\n",
       "                    </pre>"
      ],
      "text/plain": [
       "     ┌───┐          \n",
       "q_0: ┤ X ├──■───────\n",
       "     ├───┤  │       \n",
       "q_1: ┤ X ├──┼────■──\n",
       "     └───┘┌─┴─┐┌─┴─┐\n",
       "q_2: ─────┤ X ├┤ X ├\n",
       "          └───┘└───┘\n",
       "q_3: ───────────────\n",
       "                    \n",
       "c: 2/═══════════════\n",
       "                    "
      ]
     },
     "execution_count": 5,
     "metadata": {},
     "output_type": "execute_result"
    }
   ],
   "source": [
    "# Next, it should carry out the adder circuit we created\n",
    "test_qc.cx([0,1],[2,2])\n",
    "test_qc.draw()"
   ]
  },
  {
   "cell_type": "code",
   "execution_count": 26,
   "metadata": {},
   "outputs": [
    {
     "data": {
      "text/html": [
       "<pre style=\"word-wrap: normal;white-space: pre;background: #fff0;line-height: 1.1;font-family: &quot;Courier New&quot;,Courier,monospace\">     ┌───┐               \n",
       "q_0: ┤ X ├──■─────────■──\n",
       "     ├───┤  │         │  \n",
       "q_1: ┤ X ├──┼────■────■──\n",
       "     └───┘┌─┴─┐┌─┴─┐  │  \n",
       "q_2: ─────┤ X ├┤ X ├──┼──\n",
       "          └───┘└───┘┌─┴─┐\n",
       "q_3: ───────────────┤ X ├\n",
       "                    └───┘\n",
       "c: 2/════════════════════\n",
       "                         </pre>"
      ],
      "text/plain": [
       "     ┌───┐               \n",
       "q_0: ┤ X ├──■─────────■──\n",
       "     ├───┤  │         │  \n",
       "q_1: ┤ X ├──┼────■────■──\n",
       "     └───┘┌─┴─┐┌─┴─┐  │  \n",
       "q_2: ─────┤ X ├┤ X ├──┼──\n",
       "          └───┘└───┘┌─┴─┐\n",
       "q_3: ───────────────┤ X ├\n",
       "                    └───┘\n",
       "c: 2/════════════════════\n",
       "                         "
      ]
     },
     "execution_count": 26,
     "metadata": {},
     "output_type": "execute_result"
    }
   ],
   "source": [
    " # Toffoli gate\n",
    "test_qc.ccx(0,1,3)\n",
    "test_qc.draw()"
   ]
  },
  {
   "cell_type": "code",
   "execution_count": 27,
   "metadata": {},
   "outputs": [
    {
     "data": {
      "text/plain": [
       "<qiskit.circuit.instructionset.InstructionSet at 0x2036f4a92b0>"
      ]
     },
     "execution_count": 27,
     "metadata": {},
     "output_type": "execute_result"
    }
   ],
   "source": [
    "test_qc.measure([2, 3], [0, 1])"
   ]
  },
  {
   "cell_type": "code",
   "execution_count": 28,
   "metadata": {},
   "outputs": [
    {
     "data": {
      "text/plain": [
       "{'10': 1024}"
      ]
     },
     "execution_count": 28,
     "metadata": {},
     "output_type": "execute_result"
    }
   ],
   "source": [
    "from qiskit import Aer\n",
    "backend = Aer.get_backend('aer_simulator')\n",
    "job = backend.run(test_qc)\n",
    "result = job.result()\n",
    "result.get_counts()"
   ]
  }
 ],
 "metadata": {
  "kernelspec": {
   "display_name": "Python 3 (ipykernel)",
   "language": "python",
   "name": "python3"
  },
  "language_info": {
   "codemirror_mode": {
    "name": "ipython",
    "version": 3
   },
   "file_extension": ".py",
   "mimetype": "text/x-python",
   "name": "python",
   "nbconvert_exporter": "python",
   "pygments_lexer": "ipython3",
   "version": "3.9.0"
  }
 },
 "nbformat": 4,
 "nbformat_minor": 4
}
