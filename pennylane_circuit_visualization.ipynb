{
  "nbformat": 4,
  "nbformat_minor": 0,
  "metadata": {
    "colab": {
      "provenance": []
    },
    "kernelspec": {
      "name": "python3",
      "display_name": "Python 3"
    },
    "language_info": {
      "name": "python"
    }
  },
  "cells": [
    {
      "cell_type": "code",
      "source": [
        "import numpy as np\n",
        "import pandas as pd\n",
        "\n",
        "import pennylane as qml\n",
        "from pennylane.templates import AngleEmbedding\n",
        "\n",
        "from sklearn.preprocessing import MinMaxScaler"
      ],
      "metadata": {
        "id": "Ar_ekxH0O3mi"
      },
      "execution_count": null,
      "outputs": []
    },
    {
      "cell_type": "code",
      "source": [
        "filename = 'curated-solubility-dataset.csv'\n",
        "df = pd.read_csv(filename, sep=',')\n",
        "\n",
        "# select the 300 samples used in the usage example\n",
        "df_subset = df[(df['Group'] == 'G5')][:300]\n",
        "\n",
        "# get the first four features from the dataframe\n",
        "X = df_subset[['MolWt', 'MolLogP', 'MolMR', 'HeavyAtomCount']].to_numpy()\n",
        "num_feature = 4\n",
        "\n",
        "# scale the inputs to range (0, 1) for the input roatational angles in quantum circuits\n",
        "scaler = MinMaxScaler().fit(X)\n",
        "X_scaled = scaler.transform(X)"
      ],
      "metadata": {
        "id": "8DmraiNbNmv4"
      },
      "execution_count": null,
      "outputs": []
    },
    {
      "cell_type": "code",
      "source": [
        "# prepare the quantum simulator\n",
        "n_qubits = num_feature\n",
        "dev_kernel = qml.device(\"lightning.qubit\", wires=n_qubits)\n",
        "\n",
        "# only consider the expectation value of measuring all 0s\n",
        "# ignore other possible quantum states\n",
        "projector = np.zeros((2 ** n_qubits, 2 ** n_qubits))\n",
        "projector[0, 0] = 1\n",
        "\n",
        "# define the quantum circuits to construct the kernel matrix\n",
        "@qml.qnode(dev_kernel)\n",
        "def feature_mapping(x1):\n",
        "    AngleEmbedding(x1, wires=range(n_qubits), rotation='X')\n"
      ],
      "metadata": {
        "id": "3OPBpb7-PAEh"
      },
      "execution_count": null,
      "outputs": []
    },
    {
      "cell_type": "code",
      "source": [
        "print(qml.draw(feature_mapping, level=\"device\")(X_scaled[0]))"
      ],
      "metadata": {
        "colab": {
          "base_uri": "https://localhost:8080/"
        },
        "id": "RxHSZVjAQ6Pn",
        "outputId": "94e09dfc-294d-447e-ac6a-d90ae84545f9"
      },
      "execution_count": null,
      "outputs": [
        {
          "output_type": "stream",
          "name": "stdout",
          "text": [
            "0: ──RX(0.70)─┤  \n",
            "1: ──RX(0.80)─┤  \n",
            "2: ──RX(0.65)─┤  \n",
            "3: ──RX(0.68)─┤  \n"
          ]
        }
      ]
    },
    {
      "cell_type": "code",
      "source": [],
      "metadata": {
        "id": "Za-UOxWnQMyr"
      },
      "execution_count": null,
      "outputs": []
    }
  ]
}