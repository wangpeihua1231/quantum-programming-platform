{
  "nbformat": 4,
  "nbformat_minor": 0,
  "metadata": {
    "colab": {
      "provenance": []
    },
    "kernelspec": {
      "name": "python3",
      "display_name": "Python 3"
    },
    "language_info": {
      "name": "python"
    }
  },
  "cells": [
    {
      "cell_type": "code",
      "execution_count": null,
      "metadata": {
        "id": "hvXkPChhTfAV"
      },
      "outputs": [],
      "source": [
        "import matplotlib.pyplot as plt\n",
        "import numpy as np\n",
        "import pandas as pd\n",
        "\n",
        "import pennylane as qml\n",
        "from pennylane.templates import AngleEmbedding\n",
        "\n",
        "from sklearn.svm import SVR\n",
        "from sklearn.preprocessing import MinMaxScaler\n",
        "from sklearn.model_selection import train_test_split\n",
        "from sklearn.metrics import r2_score, root_mean_squared_error"
      ]
    },
    {
      "cell_type": "code",
      "source": [
        "# fix the random seed for deterministic results\n",
        "random_seed = 5\n",
        "np.random.seed(random_seed)"
      ],
      "metadata": {
        "id": "SDBXudXc-DJq"
      },
      "execution_count": null,
      "outputs": []
    },
    {
      "cell_type": "code",
      "source": [
        "# read the AqSolDB dataset\n",
        "filename = 'curated-solubility-dataset.csv'\n",
        "df = pd.read_csv(filename, sep=',')\n",
        "\n",
        "# select 300 samples for tutorial purpose\n",
        "df_subset = df[(df['Group'] == 'G5')][:300]\n",
        "\n",
        "# pick the first four features and labels from the dataframe\n",
        "X = df_subset[['MolWt', 'MolLogP', 'MolMR', 'HeavyAtomCount']].to_numpy()\n",
        "y = df_subset['Solubility'].to_numpy()\n",
        "num_feature = 4"
      ],
      "metadata": {
        "id": "XVPoIBjA7EDO"
      },
      "execution_count": null,
      "outputs": []
    },
    {
      "cell_type": "code",
      "source": [
        "# scale the inputs to range (0, 1) for the input roatational angles in quantum circuits\n",
        "scaler = MinMaxScaler().fit(X)\n",
        "X_scaled = scaler.transform(X)\n",
        "\n",
        "# split the dataset into training set and testing set\n",
        "X_train, X_test, y_train, y_test = train_test_split(X_scaled, y, train_size=0.9, random_state=random_seed)"
      ],
      "metadata": {
        "id": "OiPxAw1JLR2_"
      },
      "execution_count": null,
      "outputs": []
    },
    {
      "cell_type": "code",
      "source": [
        "# prepare the quantum simulator\n",
        "n_qubits = num_feature\n",
        "dev_kernel = qml.device(\"lightning.qubit\", wires=n_qubits)\n",
        "\n",
        "# only consider the expectation value of measuring all 0s\n",
        "# ignore other possible quantum states\n",
        "projector = np.zeros((2 ** n_qubits, 2 ** n_qubits))\n",
        "projector[0, 0] = 1\n",
        "\n",
        "# define the quantum circuits to construct the kernel matrix\n",
        "@qml.qnode(dev_kernel)\n",
        "def kernel(x1, x2):\n",
        "    AngleEmbedding(x1, wires=range(n_qubits))\n",
        "    qml.adjoint(AngleEmbedding)(x2, wires=range(n_qubits))\n",
        "    return qml.expval(qml.Hermitian(projector, wires=range(n_qubits)))"
      ],
      "metadata": {
        "id": "xf1epCamAN1y"
      },
      "execution_count": null,
      "outputs": []
    },
    {
      "cell_type": "code",
      "source": [
        "# compute the kernel matrix evaluated on pairwise data from sets A and B\n",
        "def kernel_matrix(A, B):\n",
        "    return np.array([[kernel(a, b) for b in B] for a in A])"
      ],
      "metadata": {
        "id": "U6MB_eYtASg6"
      },
      "execution_count": null,
      "outputs": []
    },
    {
      "cell_type": "code",
      "source": [
        "# build and train the prediction model (SVM regressor)\n",
        "# This step may take a few minutes to run.\n",
        "svm = SVR(kernel=kernel_matrix).fit(X_train, y_train)"
      ],
      "metadata": {
        "id": "VdQNz15GAUqI"
      },
      "execution_count": null,
      "outputs": []
    },
    {
      "cell_type": "code",
      "source": [
        "# validate the model using the testing set\n",
        "predictions = svm.predict(X_test)\n",
        "\n",
        "r2 = r2_score(predictions, y_test)\n",
        "corrcoef = np.corrcoef(y_test, predictions)[0][1]\n",
        "rmse = root_mean_squared_error(predictions, y_test)\n",
        "\n",
        "print('Pennylane kernel-based SVR')\n",
        "print(f'r-square: {r2:.3f}')\n",
        "print(f'correlation coefficient: {corrcoef:.3f}')\n",
        "print(f'root-mean-square error: {rmse:.3f}')"
      ],
      "metadata": {
        "id": "3C561H5SAvQW",
        "colab": {
          "base_uri": "https://localhost:8080/"
        },
        "outputId": "11c00fd0-160e-4a22-e725-95f6d24cf9c8"
      },
      "execution_count": null,
      "outputs": [
        {
          "output_type": "stream",
          "name": "stdout",
          "text": [
            "pennylane\n",
            "r-square: -5.720\n",
            "correlation coefficient: 0.810\n",
            "root-mean-square error: 1.313\n"
          ]
        }
      ]
    },
    {
      "cell_type": "code",
      "source": [
        "# draw the scatter plot for testing set to visualize the results\n",
        "plt.scatter(y_test, predictions)\n",
        "max_value = np.ceil(max(np.concatenate((predictions, y_test))))\n",
        "min_value = np.floor(min(np.concatenate((predictions, y_test))))\n",
        "plt.title('PennyLane kernel-based SVR')\n",
        "plt.xlim(min_value, max_value)\n",
        "plt.ylim(min_value, max_value)\n",
        "plt.xlabel('Real solubility')\n",
        "plt.ylabel('Predicted solubility')"
      ],
      "metadata": {
        "colab": {
          "base_uri": "https://localhost:8080/",
          "height": 489
        },
        "id": "MqU3gWt3BtLx",
        "outputId": "9bf4a86b-8fe3-41ad-a415-6dec14075723"
      },
      "execution_count": null,
      "outputs": [
        {
          "output_type": "execute_result",
          "data": {
            "text/plain": [
              "Text(0, 0.5, 'Predicted solubility')"
            ]
          },
          "metadata": {},
          "execution_count": 18
        },
        {
          "output_type": "display_data",
          "data": {
            "text/plain": [
              "<Figure size 640x480 with 1 Axes>"
            ],
            "image/png": "[encoded data removed]"
          },
          "metadata": {}
        }
      ]
    },
    {
      "cell_type": "code",
      "source": [],
      "metadata": {
        "id": "IdtZxltjK-O8"
      },
      "execution_count": null,
      "outputs": []
    }
  ]
}