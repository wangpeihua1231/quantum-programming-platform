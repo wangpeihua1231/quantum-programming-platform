{
  "nbformat": 4,
  "nbformat_minor": 0,
  "metadata": {
    "colab": {
      "provenance": []
    },
    "kernelspec": {
      "name": "python3",
      "display_name": "Python 3"
    },
    "language_info": {
      "name": "python"
    }
  },
  "cells": [
    {
      "cell_type": "code",
      "source": [
        "import pandas as pd\n",
        "import matplotlib.pyplot as plt\n",
        "import numpy as np\n",
        "\n",
        "from qiskit.circuit.library import ZZFeatureMap\n",
        "from qiskit.primitives import StatevectorSampler as Sampler\n",
        "from qiskit_machine_learning.state_fidelities import ComputeUncompute\n",
        "from qiskit_machine_learning.kernels import FidelityQuantumKernel\n",
        "from qiskit_machine_learning.utils import algorithm_globals\n",
        "\n",
        "from sklearn.svm import SVR\n",
        "from sklearn.preprocessing import MinMaxScaler\n",
        "from sklearn.model_selection import train_test_split\n",
        "from sklearn.metrics import r2_score, root_mean_squared_error"
      ],
      "metadata": {
        "id": "Al_xhMeqQShT"
      },
      "execution_count": null,
      "outputs": []
    },
    {
      "cell_type": "code",
      "source": [
        "# fix the random seed for deterministic results\n",
        "random_seed = 5\n",
        "np.random.seed(random_seed)\n",
        "algorithm_globals.random_seed = random_seed"
      ],
      "metadata": {
        "id": "uvkb3hG784Kt"
      },
      "execution_count": null,
      "outputs": []
    },
    {
      "cell_type": "code",
      "source": [
        "# read the AqSolDB dataset\n",
        "filename = 'curated-solubility-dataset.csv'\n",
        "df = pd.read_csv(filename, sep=',')\n",
        "\n",
        "# select 300 samples for tutorial purpose\n",
        "df_subset = df[(df['Group'] == 'G5')][:300]\n",
        "\n",
        "# pick the first four features and labels from the dataframe\n",
        "X = df_subset[['MolWt', 'MolLogP', 'MolMR', 'HeavyAtomCount']].to_numpy()\n",
        "y = df_subset['Solubility'].to_numpy()\n",
        "num_feature = 4"
      ],
      "metadata": {
        "id": "0UmEV9et4ukj"
      },
      "execution_count": null,
      "outputs": []
    },
    {
      "cell_type": "code",
      "source": [
        "# scale the inputs to range (0, 1) for the input roatational angles in quantum circuits\n",
        "scaler = MinMaxScaler().fit(X)\n",
        "X_scaled = scaler.transform(X)\n",
        "\n",
        "# split the dataset into training set and testing set\n",
        "X_train, X_test, y_train, y_test = train_test_split(X_scaled, y, train_size=0.9, random_state=random_seed)"
      ],
      "metadata": {
        "id": "X5uSQX8eQz7c"
      },
      "execution_count": null,
      "outputs": []
    },
    {
      "cell_type": "code",
      "source": [
        "# define the quantum circuits to construct the kernel matrix\n",
        "feature_map = ZZFeatureMap(feature_dimension=num_feature, reps=1, entanglement=\"linear\")\n",
        "sampler = Sampler()\n",
        "fidelity = ComputeUncompute(sampler=sampler)\n",
        "kernel = FidelityQuantumKernel(fidelity=fidelity, feature_map=feature_map)"
      ],
      "metadata": {
        "id": "ZDr9a6Y6Q3Pr"
      },
      "execution_count": null,
      "outputs": []
    },
    {
      "cell_type": "code",
      "source": [
        "# build and train the prediction model (SVM regressor)\n",
        "# This step may take a few minutes to run.\n",
        "svr_qiskit = SVR(kernel=kernel.evaluate).fit(X_train, y_train)"
      ],
      "metadata": {
        "id": "Pxibd3glRNFK"
      },
      "execution_count": null,
      "outputs": []
    },
    {
      "cell_type": "code",
      "source": [
        "# validate the model using the testing set\n",
        "predictions = svr_qiskit.predict(X_test)\n",
        "\n",
        "r2 = r2_score(y_test, predictions)\n",
        "corrcoef = np.corrcoef(y_test, predictions)[0][1]\n",
        "rmse = root_mean_squared_error(y_test, predictions)\n",
        "\n",
        "print('Qiskit kernel-based SVR')\n",
        "print(f'r-square: {r2:.3f}')\n",
        "print(f'correlation coefficient: {corrcoef:.3f}')\n",
        "print(f'root-mean-square error: {rmse:.3f}')"
      ],
      "metadata": {
        "colab": {
          "base_uri": "https://localhost:8080/"
        },
        "id": "p1l5QBJIU8xD",
        "outputId": "4d65c28e-0f4b-4fc0-9600-3084690ce14f"
      },
      "execution_count": null,
      "outputs": [
        {
          "output_type": "stream",
          "name": "stdout",
          "text": [
            "qiskit kernel-based SVR\n",
            "r-square: 0.773\n",
            "correlation coefficient: 0.883\n",
            "root-mean-square error: 0.799\n"
          ]
        }
      ]
    },
    {
      "cell_type": "code",
      "source": [
        "# draw the scatter plot for testing set to visualize the results\n",
        "plt.scatter(y_test, predictions, s=2)\n",
        "max_value = np.ceil(max(np.concatenate((predictions, y_test))))\n",
        "min_value = np.floor(min(np.concatenate((predictions, y_test))))\n",
        "plt.title('Qiskit kernel-based SVR')\n",
        "plt.xlim(min_value, max_value)\n",
        "plt.ylim(min_value, max_value)\n",
        "plt.xlabel('Real solubility')\n",
        "plt.ylabel('Predicted solubility')"
      ],
      "metadata": {
        "colab": {
          "base_uri": "https://localhost:8080/",
          "height": 489
        },
        "id": "DECIQzKBBced",
        "outputId": "e17f376b-fe4c-4e41-d0da-973e84ccb036"
      },
      "execution_count": null,
      "outputs": [
        {
          "output_type": "execute_result",
          "data": {
            "text/plain": [
              "Text(0, 0.5, 'Predicted solubility')"
            ]
          },
          "metadata": {},
          "execution_count": 21
        },
        {
          "output_type": "display_data",
          "data": {
            "text/plain": [
              "<Figure size 640x480 with 1 Axes>"
            ],
            "image/png": "[encoded data removed]"
          },
          "metadata": {}
        }
      ]
    },
    {
      "cell_type": "code",
      "source": [],
      "metadata": {
        "id": "eKSZTUQMEEo8"
      },
      "execution_count": null,
      "outputs": []
    }
  ]
}